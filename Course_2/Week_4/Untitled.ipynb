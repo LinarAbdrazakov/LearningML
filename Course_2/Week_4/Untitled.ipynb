{
 "cells": [
  {
   "cell_type": "markdown",
   "metadata": {},
   "source": [
    "# Load dataset"
   ]
  },
  {
   "cell_type": "code",
   "execution_count": 43,
   "metadata": {},
   "outputs": [],
   "source": [
    "from sklearn.datasets import load_digits\n",
    "\n",
    "import warnings \n",
    "warnings.simplefilter('ignore')\n",
    "\n",
    "digits = load_digits()"
   ]
  },
  {
   "cell_type": "code",
   "execution_count": 44,
   "metadata": {},
   "outputs": [
    {
     "data": {
      "text/plain": [
       "(1797, 64)"
      ]
     },
     "execution_count": 44,
     "metadata": {},
     "output_type": "execute_result"
    }
   ],
   "source": [
    "digits.data.shape"
   ]
  },
  {
   "cell_type": "code",
   "execution_count": 45,
   "metadata": {},
   "outputs": [
    {
     "data": {
      "text/plain": [
       "<Figure size 432x288 with 0 Axes>"
      ]
     },
     "metadata": {},
     "output_type": "display_data"
    },
    {
     "data": {
      "image/png": "[encoded data removed]",
      "text/plain": [
       "<Figure size 288x288 with 1 Axes>"
      ]
     },
     "metadata": {},
     "output_type": "display_data"
    }
   ],
   "source": [
    "import matplotlib.pyplot as plt\n",
    "%matplotlib inline\n",
    "\n",
    "plt.gray()\n",
    "plt.matshow(digits.images[11])\n",
    "plt.show()"
   ]
  },
  {
   "cell_type": "code",
   "execution_count": 46,
   "metadata": {},
   "outputs": [],
   "source": [
    "X = digits.data\n",
    "y = digits.target"
   ]
  },
  {
   "cell_type": "markdown",
   "metadata": {},
   "source": [
    "# Task 1"
   ]
  },
  {
   "cell_type": "code",
   "execution_count": 47,
   "metadata": {},
   "outputs": [],
   "source": [
    "from sklearn.tree import DecisionTreeClassifier\n",
    "from sklearn.cross_validation import cross_val_score"
   ]
  },
  {
   "cell_type": "code",
   "execution_count": 48,
   "metadata": {},
   "outputs": [
    {
     "name": "stdout",
     "output_type": "stream",
     "text": [
      "Score:  0.8258501280494471\n"
     ]
    }
   ],
   "source": [
    "tree = DecisionTreeClassifier()\n",
    "score = cross_val_score(tree, X, y, cv=10, n_jobs=-1).mean()\n",
    "print(\"Score: \", score)"
   ]
  },
  {
   "cell_type": "code",
   "execution_count": 49,
   "metadata": {},
   "outputs": [],
   "source": [
    "def write_answer1(score):\n",
    "    with open('answer_1.txt', 'w') as file:\n",
    "        file.write(str(score))\n",
    "        \n",
    "write_answer1(score)"
   ]
  },
  {
   "cell_type": "markdown",
   "metadata": {},
   "source": [
    "# Task 2"
   ]
  },
  {
   "cell_type": "code",
   "execution_count": 50,
   "metadata": {},
   "outputs": [],
   "source": [
    "from sklearn.ensemble import BaggingClassifier"
   ]
  },
  {
   "cell_type": "code",
   "execution_count": 51,
   "metadata": {},
   "outputs": [
    {
     "name": "stdout",
     "output_type": "stream",
     "text": [
      "Score: 0.9265830325477319\n"
     ]
    }
   ],
   "source": [
    "bagging = BaggingClassifier(n_estimators=100, n_jobs=-1)\n",
    "score = cross_val_score(bagging, X, y, cv=10, n_jobs=-1).mean()\n",
    "print(\"Score:\", score)"
   ]
  },
  {
   "cell_type": "code",
   "execution_count": 52,
   "metadata": {},
   "outputs": [],
   "source": [
    "def write_answer2(score):\n",
    "    with open('answer_2.txt', 'w') as file:\n",
    "        file.write(str(score))\n",
    "        \n",
    "write_answer2(score)"
   ]
  },
  {
   "cell_type": "markdown",
   "metadata": {},
   "source": [
    "# Task 3"
   ]
  },
  {
   "cell_type": "code",
   "execution_count": 79,
   "metadata": {},
   "outputs": [],
   "source": [
    "d = X.shape[1]\n",
    "max_features = int(d ** 0.5)"
   ]
  },
  {
   "cell_type": "code",
   "execution_count": 80,
   "metadata": {},
   "outputs": [
    {
     "name": "stdout",
     "output_type": "stream",
     "text": [
      "Score: 0.9243707892887922\n"
     ]
    }
   ],
   "source": [
    "bagging = BaggingClassifier(n_estimators=100, n_jobs=-1, max_features=max_features)\n",
    "score = cross_val_score(bagging, X, y, cv=10, n_jobs=-1).mean()\n",
    "print(\"Score:\", score)"
   ]
  },
  {
   "cell_type": "code",
   "execution_count": 81,
   "metadata": {},
   "outputs": [],
   "source": [
    "def write_answer3(score):\n",
    "    with open('answer_3.txt', 'w') as file:\n",
    "        file.write(str(score))\n",
    "        \n",
    "write_answer3(score)"
   ]
  },
  {
   "cell_type": "markdown",
   "metadata": {},
   "source": [
    "# Task 4"
   ]
  },
  {
   "cell_type": "code",
   "execution_count": 57,
   "metadata": {},
   "outputs": [
    {
     "name": "stdout",
     "output_type": "stream",
     "text": [
      "Score: 0.954427797352737\n"
     ]
    }
   ],
   "source": [
    "tree = DecisionTreeClassifier(max_features='sqrt')\n",
    "bagging = BaggingClassifier(tree, n_estimators=100, n_jobs=-1)\n",
    "score = cross_val_score(bagging, X, y, cv=10, n_jobs=-1).mean()\n",
    "print(\"Score:\", score)"
   ]
  },
  {
   "cell_type": "code",
   "execution_count": 58,
   "metadata": {},
   "outputs": [],
   "source": [
    "def write_answer4(score):\n",
    "    with open('answer_4.txt', 'w') as file:\n",
    "        file.write(str(score))\n",
    "        \n",
    "write_answer4(score)"
   ]
  },
  {
   "cell_type": "markdown",
   "metadata": {},
   "source": [
    "# Task 5"
   ]
  },
  {
   "cell_type": "code",
   "execution_count": 59,
   "metadata": {},
   "outputs": [],
   "source": [
    "from sklearn.ensemble import RandomForestClassifier"
   ]
  },
  {
   "cell_type": "markdown",
   "metadata": {},
   "source": [
    "## 1) No"
   ]
  },
  {
   "cell_type": "code",
   "execution_count": 63,
   "metadata": {},
   "outputs": [
    {
     "data": {
      "image/png": "[encoded data removed]",
      "text/plain": [
       "<Figure size 432x288 with 1 Axes>"
      ]
     },
     "metadata": {},
     "output_type": "display_data"
    }
   ],
   "source": [
    "n_trees = [10, 50, 70, 100, 300, 500, 700, 1000, 5000]\n",
    "scores = []\n",
    "\n",
    "for n in n_trees:\n",
    "    RFC = RandomForestClassifier(n_estimators=n)\n",
    "    scores.append(cross_val_score(RFC, X, y, cv=10, n_jobs=-1).mean())\n",
    "    \n",
    "plt.plot(n_trees, scores)\n",
    "plt.xlabel('N trees')\n",
    "plt.ylabel('Score')\n",
    "plt.show()"
   ]
  },
  {
   "cell_type": "markdown",
   "metadata": {},
   "source": [
    "## 2) Yes"
   ]
  },
  {
   "cell_type": "code",
   "execution_count": 67,
   "metadata": {},
   "outputs": [
    {
     "name": "stdout",
     "output_type": "stream",
     "text": [
      "n_estimators: 15\n",
      "Score: 0.9350940648918968\n"
     ]
    }
   ],
   "source": [
    "n_estimators = 15\n",
    "RFC = RandomForestClassifier(n_estimators=n_estimators)\n",
    "score = cross_val_score(RFC, X, y, cv=10, n_jobs=-1).mean()\n",
    "print(\"n_estimators:\", n_estimators)\n",
    "print(\"Score:\", score)"
   ]
  },
  {
   "cell_type": "markdown",
   "metadata": {},
   "source": [
    "## 3) Yes"
   ]
  },
  {
   "cell_type": "markdown",
   "metadata": {},
   "source": [
    "## 4) Yes"
   ]
  },
  {
   "cell_type": "code",
   "execution_count": 69,
   "metadata": {},
   "outputs": [
    {
     "data": {
      "image/png": "[encoded data removed]",
      "text/plain": [
       "<Figure size 432x288 with 1 Axes>"
      ]
     },
     "metadata": {},
     "output_type": "display_data"
    }
   ],
   "source": [
    "list_max_features = [5, 10, 20, 30, 40, 50]\n",
    "scores = []\n",
    "\n",
    "for max_features in list_max_features:\n",
    "    RFC = RandomForestClassifier(n_estimators=100, max_features=max_features)\n",
    "    score = cross_val_score(RFC, X, y, cv=10, n_jobs=-1).mean()\n",
    "    scores.append(score)\n",
    "    \n",
    "plt.plot(list_max_features, scores)\n",
    "plt.xlabel('max_features')\n",
    "plt.ylabel('Score')\n",
    "plt.show()"
   ]
  },
  {
   "cell_type": "markdown",
   "metadata": {},
   "source": [
    "## 5) No"
   ]
  },
  {
   "cell_type": "markdown",
   "metadata": {},
   "source": [
    "## 6) No"
   ]
  },
  {
   "cell_type": "code",
   "execution_count": 70,
   "metadata": {},
   "outputs": [
    {
     "name": "stdout",
     "output_type": "stream",
     "text": [
      "Score1: 0.9170617466860568\n",
      "Score2: 0.9528138353538708\n"
     ]
    }
   ],
   "source": [
    "RFC = RandomForestClassifier(n_estimators=100, max_depth=5)\n",
    "score = cross_val_score(RFC, X, y, cv=10, n_jobs=-1).mean()\n",
    "print(\"Score1:\", score)\n",
    "\n",
    "RFC = RandomForestClassifier(n_estimators=100)\n",
    "score = cross_val_score(RFC, X, y, cv=10, n_jobs=-1).mean()\n",
    "print(\"Score2:\", score)"
   ]
  },
  {
   "cell_type": "markdown",
   "metadata": {},
   "source": [
    "## 7) Yes"
   ]
  },
  {
   "cell_type": "code",
   "execution_count": 73,
   "metadata": {},
   "outputs": [],
   "source": [
    "!echo \"2 3 4 7\" > answer_5.txt"
   ]
  },
  {
   "cell_type": "code",
   "execution_count": 78,
   "metadata": {},
   "outputs": [
    {
     "name": "stdout",
     "output_type": "stream",
     "text": [
      "0.9444022124065397"
     ]
    }
   ],
   "source": [
    "!cat answer_3.txt"
   ]
  },
  {
   "cell_type": "code",
   "execution_count": null,
   "metadata": {},
   "outputs": [],
   "source": []
  }
 ],
 "metadata": {
  "kernelspec": {
   "display_name": "Python 3",
   "language": "python",
   "name": "python3"
  },
  "language_info": {
   "codemirror_mode": {
    "name": "ipython",
    "version": 3
   },
   "file_extension": ".py",
   "mimetype": "text/x-python",
   "name": "python",
   "nbconvert_exporter": "python",
   "pygments_lexer": "ipython3",
   "version": "3.6.6"
  }
 },
 "nbformat": 4,
 "nbformat_minor": 2
}
